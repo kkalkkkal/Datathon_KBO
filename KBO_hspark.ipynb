{
 "cells": [
  {
   "cell_type": "markdown",
   "metadata": {},
   "source": [
    "# KBO Dataset 불러오기"
   ]
  },
  {
   "cell_type": "markdown",
   "metadata": {},
   "source": [
    "### About this file\n",
    "- 1990년부터 2018년까지의 선수들의 기록을 바탕으로 다음 시즌의 AB 혹은 OPS를 예측할 수 있도록 구성되어 있습니다."
   ]
  },
  {
   "cell_type": "code",
   "execution_count": 3,
   "metadata": {},
   "outputs": [],
   "source": [
    "import pandas as pd\n",
    "df = pd.read_csv('KBO_archive/2019_kbo_for_kaggle_v2.csv')"
   ]
  },
  {
   "cell_type": "code",
   "execution_count": 5,
   "metadata": {},
   "outputs": [
    {
     "name": "stdout",
     "output_type": "stream",
     "text": [
      "  batter_name   age     G     PA     AB     R     H   2B   3B    HR  ...  tp  \\\n",
      "0         백용환  24.0  26.0   58.0   52.0   4.0   9.0  4.0  0.0   0.0  ...  포수   \n",
      "1         백용환  25.0  47.0   86.0   79.0   8.0  14.0  2.0  0.0   4.0  ...  포수   \n",
      "2         백용환  26.0  65.0  177.0  154.0  22.0  36.0  6.0  0.0  10.0  ...  포수   \n",
      "3         백용환  27.0  80.0  199.0  174.0  12.0  34.0  7.0  0.0   4.0  ...  포수   \n",
      "4         백용환  28.0  15.0   20.0   17.0   2.0   3.0  0.0  0.0   0.0  ...  포수   \n",
      "\n",
      "     1B   FBP    avg    OBP    SLG    OPS  p_year    YAB   YOPS  \n",
      "0   5.0   6.0  0.173  0.259  0.250  0.509    2014   79.0  0.580  \n",
      "1   8.0   5.0  0.177  0.226  0.354  0.580    2015  154.0  0.784  \n",
      "2  20.0  20.0  0.234  0.316  0.468  0.784    2016  174.0  0.581  \n",
      "3  23.0  20.0  0.195  0.276  0.305  0.581    2017   17.0  0.476  \n",
      "4   3.0   3.0  0.176  0.300  0.176  0.476    2018   47.0  0.691  \n",
      "\n",
      "[5 rows x 37 columns]\n"
     ]
    }
   ],
   "source": [
    "print(df.head())"
   ]
  },
  {
   "cell_type": "code",
   "execution_count": 6,
   "metadata": {},
   "outputs": [
    {
     "name": "stdout",
     "output_type": "stream",
     "text": [
      "<class 'pandas.core.frame.DataFrame'>\n"
     ]
    }
   ],
   "source": [
    "print(type(df))"
   ]
  },
  {
   "cell_type": "code",
   "execution_count": 7,
   "metadata": {},
   "outputs": [
    {
     "name": "stdout",
     "output_type": "stream",
     "text": [
      "(1913, 37)\n"
     ]
    }
   ],
   "source": [
    "print(df.shape)"
   ]
  },
  {
   "cell_type": "code",
   "execution_count": 8,
   "metadata": {},
   "outputs": [
    {
     "name": "stdout",
     "output_type": "stream",
     "text": [
      "Index(['batter_name', 'age', 'G', 'PA', 'AB', 'R', 'H', '2B', '3B', 'HR', 'TB',\n",
      "       'RBI', 'SB', 'CS', 'BB', 'HBP', 'GB', 'SO', 'GDP', 'BU', 'fly', 'year',\n",
      "       'salary', 'war', 'year_born', 'hand2', 'cp', 'tp', '1B', 'FBP', 'avg',\n",
      "       'OBP', 'SLG', 'OPS', 'p_year', 'YAB', 'YOPS'],\n",
      "      dtype='object')\n"
     ]
    }
   ],
   "source": [
    "print(df.columns)"
   ]
  },
  {
   "cell_type": "markdown",
   "metadata": {},
   "source": [
    "| index | Column <br> Name | 설명 | index | Column <br> Name | 설명 | index | Column <br> Name | 설명 | index | Column <br> Name | 설명 |\n",
    "|:---:|:---:|:---|:---:|:---:|:---|:---:|:---:|:---|:---:|:---:|:---|\n",
    "| **1** | batter_name | 선수 이름 | **11** | TB | 총 루타 수 |  **21** | fly | 희생 플라이 |  **31** | avg | 타율 |  \n",
    "| **2** | age | 나이 | **12** | RBI | 타점 |  **22** | year | 해당 시즌 |  **32** | OBP | 출루율 |  \n",
    "| **3** | G  | 경기 수 | **13** | SB | 도루 성공 | **23** | salary | 해당 시즌의 연봉 |  **33** | SLG | 장타율 |  \n",
    "| **4** | PA | 타수 | **14** | CS | 도루 실패 |  **24** | war | 대체 선수 대비 승리 기여도 |  **34** | OPS | OBP + SLG | \n",
    "| **5** | AB  | 타석 수 | **15** | BB  | 볼넷 수 |  **25** | year_born | 선수 태어난 연도 |  **35** | p_year | 다음 시즌 |  \n",
    "| **6** | R  | 득점 | **16** | HBP | 몸에 맞은 공 |  **26** | hand2 | 타석 위치 |  **36** | YAB | 다음 시즌 타석 수 |  \n",
    "| **7** | H  | 안타 | **17** | GB | 고의4구 |  **27** | cp | 최근 포지션 |  **37** | YOPS | 다음 시즌 OPS |  \n",
    "| **8** | 2B | 2루타 | **18** | SO | 삼진 |  **28** | tp | 통합 포지션 |  |  |  |  \n",
    "| **9** | 3B | 3루타 | **19** | GDP | 병살 | **29** | 1B | 1루타 |  |  |  |  \n",
    "| **10** | HR | 홈런 | **20** | BU | 희생타 | **30** | FBP | BB + HBP |  |  |  |  \n",
    "\n",
    "\n",
    "\n",
    "\n",
    "\n",
    "\n",
    "\n",
    "\n"
   ]
  },
  {
   "cell_type": "code",
   "execution_count": 11,
   "metadata": {},
   "outputs": [
    {
     "name": "stdout",
     "output_type": "stream",
     "text": [
      "batter_name     object\n",
      "age            float64\n",
      "G              float64\n",
      "PA             float64\n",
      "AB             float64\n",
      "R              float64\n",
      "H              float64\n",
      "2B             float64\n",
      "3B             float64\n",
      "HR             float64\n",
      "TB             float64\n",
      "RBI            float64\n",
      "SB             float64\n",
      "CS             float64\n",
      "BB             float64\n",
      "HBP            float64\n",
      "GB             float64\n",
      "SO             float64\n",
      "GDP            float64\n",
      "BU             float64\n",
      "fly            float64\n",
      "year             int64\n",
      "salary           int64\n",
      "war            float64\n",
      "year_born       object\n",
      "hand2           object\n",
      "cp              object\n",
      "tp              object\n",
      "1B             float64\n",
      "FBP            float64\n",
      "avg            float64\n",
      "OBP            float64\n",
      "SLG            float64\n",
      "OPS            float64\n",
      "p_year           int64\n",
      "YAB            float64\n",
      "YOPS           float64\n",
      "dtype: object\n"
     ]
    }
   ],
   "source": [
    "print(df.dtypes)"
   ]
  },
  {
   "cell_type": "code",
   "execution_count": 10,
   "metadata": {},
   "outputs": [
    {
     "name": "stdout",
     "output_type": "stream",
     "text": [
      "<class 'pandas.core.frame.DataFrame'>\n",
      "RangeIndex: 1913 entries, 0 to 1912\n",
      "Data columns (total 37 columns):\n",
      " #   Column       Non-Null Count  Dtype  \n",
      "---  ------       --------------  -----  \n",
      " 0   batter_name  1913 non-null   object \n",
      " 1   age          1913 non-null   float64\n",
      " 2   G            1913 non-null   float64\n",
      " 3   PA           1913 non-null   float64\n",
      " 4   AB           1913 non-null   float64\n",
      " 5   R            1913 non-null   float64\n",
      " 6   H            1913 non-null   float64\n",
      " 7   2B           1913 non-null   float64\n",
      " 8   3B           1913 non-null   float64\n",
      " 9   HR           1913 non-null   float64\n",
      " 10  TB           1913 non-null   float64\n",
      " 11  RBI          1913 non-null   float64\n",
      " 12  SB           1913 non-null   float64\n",
      " 13  CS           1913 non-null   float64\n",
      " 14  BB           1913 non-null   float64\n",
      " 15  HBP          1913 non-null   float64\n",
      " 16  GB           1913 non-null   float64\n",
      " 17  SO           1913 non-null   float64\n",
      " 18  GDP          1913 non-null   float64\n",
      " 19  BU           1913 non-null   float64\n",
      " 20  fly          1913 non-null   float64\n",
      " 21  year         1913 non-null   int64  \n",
      " 22  salary       1913 non-null   int64  \n",
      " 23  war          1913 non-null   float64\n",
      " 24  year_born    1913 non-null   object \n",
      " 25  hand2        1913 non-null   object \n",
      " 26  cp           1913 non-null   object \n",
      " 27  tp           1913 non-null   object \n",
      " 28  1B           1913 non-null   float64\n",
      " 29  FBP          1913 non-null   float64\n",
      " 30  avg          1899 non-null   float64\n",
      " 31  OBP          1901 non-null   float64\n",
      " 32  SLG          1899 non-null   float64\n",
      " 33  OPS          1899 non-null   float64\n",
      " 34  p_year       1913 non-null   int64  \n",
      " 35  YAB          1913 non-null   float64\n",
      " 36  YOPS         1898 non-null   float64\n",
      "dtypes: float64(29), int64(3), object(5)\n",
      "memory usage: 553.1+ KB\n",
      "None\n"
     ]
    }
   ],
   "source": [
    "print(df.info())"
   ]
  },
  {
   "cell_type": "code",
   "execution_count": 13,
   "metadata": {},
   "outputs": [
    {
     "name": "stdout",
     "output_type": "stream",
     "text": [
      "year\n",
      "1990     2400.000000\n",
      "1991     2400.000000\n",
      "1992     2400.000000\n",
      "1993     2400.000000\n",
      "1994     2400.000000\n",
      "1995     2400.000000\n",
      "1996     2400.000000\n",
      "1997     2990.000000\n",
      "1998     3405.263158\n",
      "1999     4119.047619\n",
      "2000     5580.000000\n",
      "2001     5806.250000\n",
      "2002     6602.631579\n",
      "2003     6509.302326\n",
      "2004     7266.666667\n",
      "2005     8011.111111\n",
      "2006     8058.636364\n",
      "2007     9752.941176\n",
      "2008    10667.721519\n",
      "2009    10012.643678\n",
      "2010    11723.238636\n",
      "2011    11851.000000\n",
      "2012    13712.605042\n",
      "2013    14792.800000\n",
      "2014    16932.330827\n",
      "2015    20183.229814\n",
      "2016    18331.952663\n",
      "2017    20575.141243\n",
      "2018    21425.641026\n",
      "Name: salary, dtype: float64\n"
     ]
    }
   ],
   "source": [
    "print(df.groupby('year')['salary'].mean())"
   ]
  },
  {
   "cell_type": "code",
   "execution_count": 14,
   "metadata": {},
   "outputs": [
    {
     "name": "stdout",
     "output_type": "stream",
     "text": [
      "year  batter_name\n",
      "1990  김병수              2400\n",
      "      김재상              2400\n",
      "      김종헌              2400\n",
      "      심재원              2400\n",
      "      오대석              2400\n",
      "                      ...  \n",
      "2018  홍재호              3500\n",
      "      홍창기              2700\n",
      "      황윤호              3100\n",
      "      황재균            120000\n",
      "      황진수              6200\n",
      "Name: salary, Length: 1913, dtype: int64\n"
     ]
    }
   ],
   "source": [
    "print(df.groupby(['year', 'batter_name'])['salary'].mean())"
   ]
  },
  {
   "cell_type": "code",
   "execution_count": 15,
   "metadata": {},
   "outputs": [
    {
     "name": "stdout",
     "output_type": "stream",
     "text": [
      "338\n"
     ]
    }
   ],
   "source": [
    "print(df['batter_name'].nunique())"
   ]
  },
  {
   "cell_type": "code",
   "execution_count": 16,
   "metadata": {},
   "outputs": [
    {
     "name": "stdout",
     "output_type": "stream",
     "text": [
      "year\n",
      "1990      9\n",
      "1991      6\n",
      "1992      4\n",
      "1993      4\n",
      "1994      5\n",
      "1995      8\n",
      "1996     12\n",
      "1997     15\n",
      "1998     19\n",
      "1999     21\n",
      "2000     25\n",
      "2001     32\n",
      "2002     38\n",
      "2003     43\n",
      "2004     51\n",
      "2005     54\n",
      "2006     66\n",
      "2007     68\n",
      "2008     79\n",
      "2009     87\n",
      "2010     88\n",
      "2011    100\n",
      "2012    119\n",
      "2013    125\n",
      "2014    133\n",
      "2015    161\n",
      "2016    169\n",
      "2017    177\n",
      "2018    195\n",
      "Name: batter_name, dtype: int64\n"
     ]
    }
   ],
   "source": [
    "print(df.groupby('year')['batter_name'].nunique())"
   ]
  },
  {
   "cell_type": "code",
   "execution_count": 17,
   "metadata": {},
   "outputs": [
    {
     "name": "stdout",
     "output_type": "stream",
     "text": [
      "0        백용환\n",
      "6        신범수\n",
      "7        김민식\n",
      "11       한승택\n",
      "14       황윤호\n",
      "        ... \n",
      "1880     이상훈\n",
      "1884     이승엽\n",
      "1897     이원석\n",
      "1909     조용호\n",
      "1911    히메네스\n",
      "Name: batter_name, Length: 338, dtype: object\n"
     ]
    }
   ],
   "source": [
    "print(df['batter_name'].drop_duplicates())"
   ]
  },
  {
   "cell_type": "code",
   "execution_count": 18,
   "metadata": {},
   "outputs": [],
   "source": [
    "salary = df['salary']"
   ]
  },
  {
   "cell_type": "code",
   "execution_count": 21,
   "metadata": {},
   "outputs": [
    {
     "data": {
      "text/plain": [
       "250000"
      ]
     },
     "execution_count": 21,
     "metadata": {},
     "output_type": "execute_result"
    }
   ],
   "source": [
    "salary.max()"
   ]
  },
  {
   "cell_type": "code",
   "execution_count": 22,
   "metadata": {},
   "outputs": [
    {
     "data": {
      "text/plain": [
       "14112.13538944067"
      ]
     },
     "execution_count": 22,
     "metadata": {},
     "output_type": "execute_result"
    }
   ],
   "source": [
    "salary.mean()"
   ]
  },
  {
   "cell_type": "code",
   "execution_count": 23,
   "metadata": {},
   "outputs": [
    {
     "data": {
      "text/plain": [
       "10      15000\n",
       "23      18000\n",
       "26      28000\n",
       "31      20000\n",
       "32      15000\n",
       "        ...  \n",
       "1906    15000\n",
       "1907    30000\n",
       "1908    30000\n",
       "1911    50000\n",
       "1912    50000\n",
       "Name: salary, Length: 507, dtype: int64"
      ]
     },
     "execution_count": 23,
     "metadata": {},
     "output_type": "execute_result"
    }
   ],
   "source": [
    "salary[salary > salary.mean()]"
   ]
  },
  {
   "cell_type": "code",
   "execution_count": null,
   "metadata": {},
   "outputs": [],
   "source": []
  },
  {
   "cell_type": "code",
   "execution_count": null,
   "metadata": {},
   "outputs": [],
   "source": []
  },
  {
   "cell_type": "code",
   "execution_count": null,
   "metadata": {},
   "outputs": [],
   "source": []
  }
 ],
 "metadata": {
  "kernelspec": {
   "display_name": "Python 3",
   "language": "python",
   "name": "python3"
  },
  "language_info": {
   "codemirror_mode": {
    "name": "ipython",
    "version": 3
   },
   "file_extension": ".py",
   "mimetype": "text/x-python",
   "name": "python",
   "nbconvert_exporter": "python",
   "pygments_lexer": "ipython3",
   "version": "3.7.5"
  }
 },
 "nbformat": 4,
 "nbformat_minor": 4
}
